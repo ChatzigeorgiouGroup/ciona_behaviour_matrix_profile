{
 "cells": [
  {
   "cell_type": "code",
   "execution_count": null,
   "metadata": {},
   "outputs": [],
   "source": [
    "import pandas as pd\n",
    "import numpy as np\n",
    "import matplotlib.pyplot as plt\n",
    "from matplotlib.animation import FuncAnimation as animation\n",
    "import glob\n",
    "import ipywidgets as widgets\n",
    "import h5py\n",
    "from IPython.display import HTML\n",
    "import tqdm\n",
    "from tslearn.clustering import TimeSeriesKMeans"
   ]
  },
  {
   "cell_type": "code",
   "execution_count": null,
   "metadata": {},
   "outputs": [],
   "source": [
    "window = 150"
   ]
  },
  {
   "cell_type": "code",
   "execution_count": null,
   "metadata": {},
   "outputs": [],
   "source": [
    "main_df = pd.read_pickle(\"/data/longterm/10/athira/July17_features_combined_noLightStimuli.pickle\")\n",
    "motif_df = pd.read_hdf(f\"correct_frame_motifs_{window}_nclusters_15_meanvarnorm_rollingmean.hdf5\")\n",
    "files = motif_df.filename.unique()\n",
    "raw_skel_files = glob.glob(\"/data/longterm/10/athira/Tierpsy_skeleton_files_July13/*skeletons.hdf5\")\n",
    "model = TimeSeriesKMeans.from_json(f\"model_with_context_n15_w{window}.json\")\n"
   ]
  },
  {
   "cell_type": "code",
   "execution_count": null,
   "metadata": {},
   "outputs": [],
   "source": [
    "motif_df[\"labels\"] = model.labels_"
   ]
  },
  {
   "cell_type": "code",
   "execution_count": null,
   "metadata": {},
   "outputs": [],
   "source": [
    "def read_skeleton_as_array(file_path):\n",
    "    file_path = list(filter(lambda x: file_path in x, raw_skel_files))[0]\n",
    "    try:\n",
    "        skeletons_store = h5py.File(file_path, 'r')\n",
    "        skeletons = np.array(skeletons_store['coordinates']['skeletons'])\n",
    "\n",
    "    except IOError:\n",
    "        print(\"Unable to read the file : check if the file exists\")\n",
    "\n",
    "    except KeyError:\n",
    "        skeletons = np.array(skeletons_store['skeleton'])\n",
    "\n",
    "    return skeletons\n",
    "\n",
    "def rotate(x, y, angle):\n",
    "    xr = x*np.cos(angle) - y* np.sin(angle)\n",
    "    yr = x*np.sin(angle) + y* np.cos(angle)\n",
    "    return xr,yr\n",
    "def get_base_angle(x,y, degrees = False):\n",
    "    angle = np.arctan(y/x)\n",
    "    if y < 0:\n",
    "        angle *=-1\n",
    "    if not degrees:\n",
    "        return(angle)\n",
    "    else:\n",
    "        return(np.degrees(angle))\n",
    "def get_skeleton_motif(motif):\n",
    "    skel = read_skeleton_as_array(motif.filename)\n",
    "    start = motif.frame\n",
    "    stop = motif.frame + window\n",
    "    skel =  skel[start:stop, :,:]\n",
    "    return(skel)"
   ]
  },
  {
   "cell_type": "code",
   "execution_count": null,
   "metadata": {},
   "outputs": [],
   "source": [
    "plt.close(\"all\")"
   ]
  },
  {
   "cell_type": "code",
   "execution_count": null,
   "metadata": {},
   "outputs": [],
   "source": [
    "import seaborn as sns"
   ]
  },
  {
   "cell_type": "code",
   "execution_count": null,
   "metadata": {},
   "outputs": [],
   "source": [
    "palette = sns.color_palette(\"nipy_spectral\", n_colors=window)"
   ]
  },
  {
   "cell_type": "code",
   "execution_count": null,
   "metadata": {},
   "outputs": [],
   "source": [
    "\n",
    "# def make_animation(cluster):\n",
    "#     def animate(i):\n",
    "#         for j, m in enumerate(selected_motifs):\n",
    "#             if i%150 == 0:\n",
    "#                 axes.ravel()[j].clear()\n",
    "#             frame = m[i,:,:]\n",
    "#             xs = frame[:,0]\n",
    "#             ys = frame[:,1]\n",
    "#             angle = get_base_angle(xs[12], ys[12]) - np.pi\n",
    "# #             xs = xs-frame[12, 0]\n",
    "# #             ys = ys-frame[12, 1]\n",
    "# #             xs, ys = rotate(xs, ys, angle)\n",
    "#             axes.ravel()[j].plot(xs, ys, c = palette[i], alpha = 0.4, lw = 0.5)\n",
    "#             axes.ravel()[j].axis(\"off\")\n",
    "#             axes.ravel()[j].axis(\"equal\")\n",
    "        \n",
    "#     twelves = motif_df[motif_df[\"labels\"] == cluster]\n",
    "#     gets = np.random.choice(np.arange(0,len(twelves),1), 225)\n",
    "#     selected_motifs = [get_skeleton_motif(twelves.iloc[get]) for get in gets]\n",
    "#     fig, axes = plt.subplots(15,15, figsize = (10,10))\n",
    "#     anim = animation(fig, animate, frames = 150, interval = 100)\n",
    "#     anim.save(f\"gifs_{window}_neck/anim_{str(cluster).zfill(2)}_COLOR_unaligned.gif\", writer = \"imagemagick\", dpi = 300)\n",
    "# #     anim = animation(fig, animate, frames = 30, interval = 100).to_jshtml()\n",
    "# #     display(HTML(anim))"
   ]
  },
  {
   "cell_type": "code",
   "execution_count": null,
   "metadata": {},
   "outputs": [],
   "source": [
    "def make_plot(cluster):\n",
    "    twelves = motif_df[motif_df[\"labels\"] == cluster]\n",
    "    gets = np.random.choice(np.arange(0,len(twelves),1), 225, replace = False)\n",
    "    selected_motifs = [get_skeleton_motif(twelves.iloc[get]) for get in gets]\n",
    "    fig, axes = plt.subplots(15,15, figsize = (10,10), dpi = 1200)\n",
    "    for j, m in enumerate(selected_motifs):\n",
    "        for i in range(window):\n",
    "            frame = m[i,:,:]\n",
    "            xs = frame[:,0]\n",
    "            ys = frame[:,1]\n",
    "            angle = get_base_angle(xs[12], ys[12]) - np.pi\n",
    "    #             xs = xs-frame[12, 0]\n",
    "    #             ys = ys-frame[12, 1]\n",
    "    #             xs, ys = rotate(xs, ys, angle)\n",
    "            axes.ravel()[j].plot(xs, ys, c = palette[i], alpha = 0.4, lw = 0.5)\n",
    "            axes.ravel()[j].axis(\"off\")\n",
    "            axes.ravel()[j].axis(\"equal\")\n",
    "    return fig, axes, twelves.iloc[gets]\n",
    "        \n"
   ]
  },
  {
   "cell_type": "code",
   "execution_count": null,
   "metadata": {},
   "outputs": [],
   "source": [
    "import os"
   ]
  },
  {
   "cell_type": "code",
   "execution_count": null,
   "metadata": {
    "tags": []
   },
   "outputs": [],
   "source": [
    "savepath = \"high_dpi_coloured_skeletons_with_preserved_info\"\n",
    "if not os.path.exists(savepath):\n",
    "    os.mkdir(savepath)\n",
    "for c in tqdm.tqdm(range(15)):\n",
    "    clusterpath = os.path.join(savepath, f\"window_{window}_cluster_{str(c).zfill(2)}\")\n",
    "    if not os.path.exists(clusterpath):\n",
    "        os.mkdir(clusterpath)\n",
    "    fig, axes, selected_motifs = make_plot(c)\n",
    "    axes = axes.ravel()\n",
    "    fig.savefig(f\"{clusterpath}/{window}_{c}.svg\")\n",
    "    fig.savefig(f\"{clusterpath}/{window}_{c}.png\")\n",
    "    for i, ax in enumerate(axes):\n",
    "        axes[i].set_title(str(i+1))\n",
    "    fig.savefig(f\"{clusterpath}/{window}_{c}_numbered.svg\")\n",
    "    fig.savefig(f\"{clusterpath}/{window}_{c}_numbered.png\")\n",
    "    plt.close(\"fig\")\n",
    "    selected_motifs = selected_motifs.drop(\"motifs\", axis = 1)\n",
    "    selected_motifs[\"plot_number\"] = np.arange(1,226)\n",
    "    selected_motifs.to_csv(f\"{clusterpath}/meta_cluster_{str(c).zfill(2)}\", sep = \"\\t\")"
   ]
  },
  {
   "cell_type": "code",
   "execution_count": null,
   "metadata": {},
   "outputs": [],
   "source": [
    "axes"
   ]
  },
  {
   "cell_type": "code",
   "execution_count": null,
   "metadata": {},
   "outputs": [],
   "source": []
  },
  {
   "cell_type": "code",
   "execution_count": null,
   "metadata": {},
   "outputs": [],
   "source": [
    "selected_motifs"
   ]
  },
  {
   "cell_type": "code",
   "execution_count": null,
   "metadata": {},
   "outputs": [],
   "source": [
    "for c in tqdm.tqdm(range(15)):\n",
    "    try:\n",
    "        make_animation(c)\n",
    "    except Exception as e:\n",
    "        print(c, str(e))"
   ]
  },
  {
   "cell_type": "code",
   "execution_count": null,
   "metadata": {},
   "outputs": [],
   "source": [
    "plt.close(\"all\")"
   ]
  },
  {
   "cell_type": "code",
   "execution_count": null,
   "metadata": {
    "tags": []
   },
   "outputs": [],
   "source": [
    "window = 30\n",
    "\n",
    "palette = sns.color_palette(\"nipy_spectral\", n_colors=window)\n",
    "\n",
    "main_df = pd.read_pickle(\"/data/longterm/10/athira/July17_features_combined_noLightStimuli.pickle\")\n",
    "motif_df = pd.read_hdf(f\"correct_frame_motifs_{window}_nclusters_15_meanvarnorm_rollingmean.hdf5\")\n",
    "files = motif_df.filename.unique()\n",
    "raw_skel_files = glob.glob(\"/data/longterm/10/athira/Tierpsy_skeleton_files_July13/*skeletons.hdf5\")\n",
    "model = TimeSeriesKMeans.from_json(f\"model_with_context_n15_w{window}.json\")\n",
    "\n",
    "motif_df[\"labels\"] = model.labels_\n",
    "\n",
    "def get_skeleton_motif(motif):\n",
    "    skel = read_skeleton_as_array(motif.filename)\n",
    "    start = motif.frame\n",
    "    stop = motif.frame + window\n",
    "    skel =  skel[start:stop, :,:]\n",
    "    return(skel)\n",
    "\n",
    "def make_animation(cluster):\n",
    "    def animate(i):\n",
    "        for j, m in enumerate(selected_motifs):\n",
    "            if i%30 == 0:\n",
    "                axes.ravel()[j].clear()\n",
    "            frame = m[i,:,:]\n",
    "            xs = frame[:,0]\n",
    "            ys = frame[:,1]\n",
    "            angle = get_base_angle(xs[12], ys[12]) - np.pi\n",
    "#             xs = xs-frame[12, 0]\n",
    "#             ys = ys-frame[12, 1]\n",
    "#             xs, ys = rotate(xs, ys, angle)\n",
    "            axes.ravel()[j].plot(xs, ys, c = palette[i], alpha = 0.4, lw = 0.5)\n",
    "            axes.ravel()[j].axis(\"off\")\n",
    "            axes.ravel()[j].axis(\"equal\")\n",
    "        \n",
    "    twelves = motif_df[motif_df[\"labels\"] == cluster]\n",
    "    gets = np.random.choice(np.arange(0,len(twelves),1), 225)\n",
    "    selected_motifs = [get_skeleton_motif(twelves.iloc[get]) for get in gets]\n",
    "    fig, axes = plt.subplots(15,15, figsize = (10,10))\n",
    "    anim = animation(fig, animate, frames = 30, interval = 100)\n",
    "    anim.save(f\"gifs_{window}_neck/anim_{str(cluster).zfill(2)}_COLOR_unaligned.gif\", writer = \"imagemagick\")\n",
    "    \n",
    "for c in tqdm.tqdm(range(15)):\n",
    "    try:\n",
    "        make_animation(c)\n",
    "    except Exception as e:\n",
    "        print(c, str(e))\n"
   ]
  },
  {
   "cell_type": "code",
   "execution_count": null,
   "metadata": {},
   "outputs": [],
   "source": [
    "def translate(skel_coords, neck_ind):\n",
    "    \n",
    "    diff = skel_coords[neck_ind]\n",
    "    skel_coords_trans = skel_coords - diff\n",
    "    \n",
    "    return skel_coords_trans\n",
    "\n",
    "def angle(x,y, degrees = False):\n",
    "    angle = np.arctan2(y,x)\n",
    "#     if y < 0:\n",
    "#         angle *=-1\n",
    "    if not degrees:\n",
    "        return(angle)\n",
    "    else:\n",
    "        return(np.degrees(angle))\n",
    "\n",
    "def rotate_matrix(skel_array,angle):\n",
    "    xr = skel_array[:,0]*np.cos(angle) - skel_array[:,1]* np.sin(angle)\n",
    "    yr = skel_array[:,0]*np.sin(angle) + skel_array[:,1]* np.cos(angle)\n",
    "    return xr,yr\n",
    "\n",
    "def rotate(x, y, angle):\n",
    "    xr = x*np.cos(angle) - y* np.sin(angle)\n",
    "    yr = x*np.sin(angle) + y* np.cos(angle)\n",
    "    return xr,yr"
   ]
  },
  {
   "cell_type": "code",
   "execution_count": null,
   "metadata": {},
   "outputs": [],
   "source": [
    "np.vstack(random_selection).shape"
   ]
  },
  {
   "cell_type": "code",
   "execution_count": null,
   "metadata": {},
   "outputs": [],
   "source": [
    "random_skels"
   ]
  },
  {
   "cell_type": "code",
   "execution_count": null,
   "metadata": {},
   "outputs": [],
   "source": [
    "\n",
    "fig, ax = plt.subplots(3,5, figsize = (15,5))\n",
    "ax = ax.ravel()\n",
    "for cluster in range(15):\n",
    "    motifs = motif_df[motif_df[\"labels\"] == cluster]\n",
    "    random_selection = [get_skeleton_motif(motifs.iloc[i]) for i in np.random.choice(range(len(motifs)), 1500)]\n",
    "\n",
    "\n",
    "\n",
    "    ax[cluster].axis(\"equal\")\n",
    "    ax[cluster].axis(\"off\")\n",
    "#     xs_base = random_selection[0][0,:,0]\n",
    "#     ys_base = random_selection[0][0,:,1]\n",
    "#     angle = get_base_angle(xs_base[-1]-xs_base[0], ys_base[-1]-ys_base[0]) - np.pi\n",
    "    skels = np.vstack(random_selection)\n",
    "    random_indexes = np.random.choice(range(len(skels)), 100)\n",
    "    for index in random_indexes:\n",
    "        s = skels[index]\n",
    "        \n",
    "        s = translate(s, 12)\n",
    "        rot_angle = angle(s[-1,0], s[-1,1], degrees = False)\n",
    "\n",
    "        if rot_angle > np.pi/2:\n",
    "            rotation = 3*(np.pi/2)-rot_angle\n",
    "        else:\n",
    "            rotation = -(np.pi/2+rot_angle)\n",
    "\n",
    "        xs,ys = rotate_matrix(s, rotation)\n",
    "        \n",
    "        if not np.min(ys) < -100:\n",
    "            ax[cluster].plot(xs,ys, color = \"b\", alpha = 0.1)\n",
    "            ax[cluster].set_title(cluster)\n",
    "            \n",
    "# fig.savefig(f\"motifs_static_{window}.svg\")\n",
    "# fig.savefig(f\"motifs_static_{window}.png\")\n",
    "        "
   ]
  },
  {
   "cell_type": "code",
   "execution_count": null,
   "metadata": {},
   "outputs": [],
   "source": [
    "import seaborn as sns"
   ]
  },
  {
   "cell_type": "code",
   "execution_count": null,
   "metadata": {},
   "outputs": [],
   "source": [
    "palette = sns.color_palette(\"nipy_spectral\", n_colors=window)"
   ]
  },
  {
   "cell_type": "code",
   "execution_count": null,
   "metadata": {},
   "outputs": [],
   "source": [
    "palette"
   ]
  },
  {
   "cell_type": "code",
   "execution_count": null,
   "metadata": {},
   "outputs": [],
   "source": [
    "window"
   ]
  },
  {
   "cell_type": "code",
   "execution_count": null,
   "metadata": {},
   "outputs": [],
   "source": [
    "import os\n",
    "os.mkdir(f\"prog_col_skels_{window}\")"
   ]
  },
  {
   "cell_type": "code",
   "execution_count": null,
   "metadata": {
    "jupyter": {
     "outputs_hidden": true
    },
    "tags": []
   },
   "outputs": [],
   "source": [
    "\n",
    "for cluster in range(15):\n",
    "    motifs = motif_df[motif_df[\"labels\"] == cluster]\n",
    "    skels = random_selection = [get_skeleton_motif(motifs.iloc[i]) for i in np.random.choice(range(len(motifs)), 25)]\n",
    "    for n, skel in enumerate(skels):\n",
    "        fig, ax = plt.subplots()\n",
    "        ax.axis(\"equal\")\n",
    "        ax.axis(\"off\")\n",
    "\n",
    "        for index in range(len(skel)):\n",
    "\n",
    "            s = skel[index]\n",
    "\n",
    "            s = translate(s, 12)\n",
    "            rot_angle = angle(s[-1,0], s[-1,1], degrees = False)\n",
    "\n",
    "            if rot_angle > np.pi/2:\n",
    "                rotation = 3*(np.pi/2)-rot_angle\n",
    "            else:\n",
    "                rotation = -(np.pi/2+rot_angle)\n",
    "\n",
    "            xs,ys = rotate_matrix(s, rotation)\n",
    "            ax.plot(xs,ys, color = palette[index], alpha = 0.4)\n",
    "            ax.set_title(cluster)\n",
    "\n",
    "            fig.savefig(f\"./prog_col_skels_{window}/progressive_skeleton_motifs_{cluster}_{window}_{n}.png\")\n",
    "            fig.savefig(f\"./prog_col_skels_{window}progressive_skeleton_motifs_{cluster}_{window}_{n}.svg\")\n",
    "    "
   ]
  },
  {
   "cell_type": "code",
   "execution_count": null,
   "metadata": {},
   "outputs": [],
   "source": [
    "len(palette)"
   ]
  },
  {
   "cell_type": "code",
   "execution_count": null,
   "metadata": {},
   "outputs": [],
   "source": [
    "display(palette)"
   ]
  },
  {
   "cell_type": "code",
   "execution_count": null,
   "metadata": {
    "jupyter": {
     "outputs_hidden": true
    },
    "tags": []
   },
   "outputs": [],
   "source": [
    "random_selection"
   ]
  },
  {
   "cell_type": "code",
   "execution_count": null,
   "metadata": {},
   "outputs": [],
   "source": [
    "import os"
   ]
  },
  {
   "cell_type": "code",
   "execution_count": null,
   "metadata": {
    "jupyter": {
     "outputs_hidden": true
    },
    "tags": []
   },
   "outputs": [],
   "source": [
    "for c in tqdm.tqdm(range(15)):\n",
    "    try:\n",
    "        make_animation(c)\n",
    "    except Exception as e:\n",
    "        print(c, str(e))"
   ]
  },
  {
   "cell_type": "code",
   "execution_count": null,
   "metadata": {},
   "outputs": [],
   "source": []
  },
  {
   "cell_type": "code",
   "execution_count": null,
   "metadata": {},
   "outputs": [],
   "source": []
  }
 ],
 "metadata": {
  "kernelspec": {
   "display_name": "Python 3 (ipykernel)",
   "language": "python",
   "name": "python3"
  },
  "language_info": {
   "codemirror_mode": {
    "name": "ipython",
    "version": 3
   },
   "file_extension": ".py",
   "mimetype": "text/x-python",
   "name": "python",
   "nbconvert_exporter": "python",
   "pygments_lexer": "ipython3",
   "version": "3.9.7"
  }
 },
 "nbformat": 4,
 "nbformat_minor": 4
}
