{
 "cells": [
  {
   "cell_type": "code",
   "execution_count": null,
   "metadata": {},
   "outputs": [],
   "source": [
    "import pandas as pd\n",
    "import numpy as np\n",
    "import matplotlib.pyplot as plt\n",
    "import stumpy\n",
    "import glob\n",
    "import ipywidgets as widgets\n",
    "import peakutils\n",
    "from tslearn.clustering import KShape\n",
    "from tslearn.preprocessing import TimeSeriesScalerMeanVariance\n",
    "from tslearn.clustering import KernelKMeans\n",
    "from tslearn.clustering import TimeSeriesKMeans\n",
    "from scipy.signal import savgol_filter\n",
    "from functools import partial\n",
    "from joblib import delayed, Parallel\n",
    "%matplotlib widget"
   ]
  },
  {
   "cell_type": "code",
   "execution_count": null,
   "metadata": {},
   "outputs": [],
   "source": [
    "path = \"/share/data/temp/athira/July17_features_combined_noLightStimuli.pickle\"\n",
    "df = pd.read_pickle(path)"
   ]
  },
  {
   "cell_type": "code",
   "execution_count": null,
   "metadata": {},
   "outputs": [],
   "source": [
    "def get_curvature_data(f):\n",
    "    \"\"\"\n",
    "    function to extract a specific timeseries from the main dataframe.\n",
    "    \"\"\"\n",
    "    df_f = df[df[\"filename\"] == f]\n",
    "    cols_to_return = [c for c in df.columns if \"curv\" in c]\n",
    "    return df_f[cols_to_return]"
   ]
  },
  {
   "cell_type": "code",
   "execution_count": null,
   "metadata": {},
   "outputs": [],
   "source": [
    "def do_work(filename, window = 150):\n",
    "    try:\n",
    "        data = get_curvature_data(filename)\n",
    "        for c in data.columns:\n",
    "            data[c] = data[c].rolling(10).mean()\n",
    "        data = data[10:]\n",
    "        mp, ind = stumpy.mstump(data, m = window)\n",
    "        peaks = peakutils.indexes(1-mp[:,-1], min_dist = window, thres = 0.8)\n",
    "        motifs = np.stack([data.values[peak:peak+window, :] for peak in peaks])\n",
    "        return [filename, motifs]\n",
    "    except Exception as e:\n",
    "        return( (filename, str(e)))"
   ]
  },
  {
   "cell_type": "code",
   "execution_count": null,
   "metadata": {},
   "outputs": [],
   "source": [
    "to_do = df[\"filename\"].unique()"
   ]
  },
  {
   "cell_type": "code",
   "execution_count": null,
   "metadata": {},
   "outputs": [],
   "source": [
    "window = 150 #or 30 for window=1sec\n",
    "\n",
    "#20 threads use up about 90gb of RAM. Don`t use much more.\n",
    "motifs = Parallel(n_jobs=20, verbose = 5)(delayed(partial(do_work, window = window))(f) for f in to_do)\n"
   ]
  },
  {
   "cell_type": "code",
   "execution_count": null,
   "metadata": {},
   "outputs": [],
   "source": [
    "true_motifs = [m for m in motifs if type(m) == list]"
   ]
  },
  {
   "cell_type": "code",
   "execution_count": null,
   "metadata": {},
   "outputs": [],
   "source": [
    "len(true_motifs)"
   ]
  },
  {
   "cell_type": "code",
   "execution_count": null,
   "metadata": {},
   "outputs": [],
   "source": [
    "with open(\"motifs.pkl\", \"wb\") as p:\n",
    "    pickle.dump(true_motifs, p)"
   ]
  },
  {
   "cell_type": "code",
   "execution_count": null,
   "metadata": {},
   "outputs": [],
   "source": [
    "motifs = true_motifs\n",
    "true_motifs = None"
   ]
  },
  {
   "cell_type": "code",
   "execution_count": null,
   "metadata": {},
   "outputs": [],
   "source": [
    "motifs[0][1].shape"
   ]
  },
  {
   "cell_type": "code",
   "execution_count": null,
   "metadata": {},
   "outputs": [],
   "source": [
    "m = motifs[0]"
   ]
  },
  {
   "cell_type": "code",
   "execution_count": null,
   "metadata": {},
   "outputs": [],
   "source": [
    "motif_df = pd.concat([pd.DataFrame([[m[0], x] for x in m[1]], columns = [\"filename\", \"motifs\"]) for m in motifs], ignore_index = True)"
   ]
  },
  {
   "cell_type": "code",
   "execution_count": null,
   "metadata": {},
   "outputs": [],
   "source": [
    "motifs_scaled = TimeSeriesScalerMeanVariance().fit_transform(np.stack(motif_df[\"motifs\"].values))"
   ]
  },
  {
   "cell_type": "code",
   "execution_count": null,
   "metadata": {},
   "outputs": [],
   "source": [
    "model = TimeSeriesKMeans(n_jobs = 30, n_clusters = 15, metric = \"dtw\")\n",
    "model.fit(motifs_scaled)"
   ]
  },
  {
   "cell_type": "code",
   "execution_count": null,
   "metadata": {},
   "outputs": [],
   "source": [
    "model.labels_.shape"
   ]
  },
  {
   "cell_type": "code",
   "execution_count": null,
   "metadata": {},
   "outputs": [],
   "source": [
    "motif_df[\"labels\"] = model.labels_"
   ]
  },
  {
   "cell_type": "code",
   "execution_count": null,
   "metadata": {},
   "outputs": [],
   "source": [
    "motif_df.to_hdf(\"motifs_150_meanvarnorm_rollingmean_labeled.hdf5\", key = \"data\")"
   ]
  },
  {
   "cell_type": "code",
   "execution_count": null,
   "metadata": {},
   "outputs": [],
   "source": [
    "def find_drug(filename):\n",
    "    return df[\"drug\"][df[\"filename\"] == filename].values[0]"
   ]
  },
  {
   "cell_type": "code",
   "execution_count": null,
   "metadata": {},
   "outputs": [],
   "source": [
    "import tqdm"
   ]
  },
  {
   "cell_type": "code",
   "execution_count": null,
   "metadata": {},
   "outputs": [],
   "source": [
    "drugs_col = []\n",
    "for f in tqdm.tqdm(motif_df[\"filename\"]):\n",
    "    drugs_col.append(df[\"drug\"][df[\"filename\"] == f].values[0])\n",
    "    "
   ]
  },
  {
   "cell_type": "code",
   "execution_count": null,
   "metadata": {},
   "outputs": [],
   "source": [
    "motif_df[\"drugs\"] = drugs_col"
   ]
  },
  {
   "cell_type": "code",
   "execution_count": null,
   "metadata": {},
   "outputs": [],
   "source": [
    "motif_df.to_hdf(\"motifs_150_meanvarnorm_rollingmean_labeled.hdf5\", key = \"data\")"
   ]
  },
  {
   "cell_type": "code",
   "execution_count": null,
   "metadata": {},
   "outputs": [],
   "source": [
    "motif_df = pd.read_hdf(\"motifs_150_meanvarnorm_rollingmean_labeled.hdf5\")"
   ]
  },
  {
   "cell_type": "code",
   "execution_count": null,
   "metadata": {},
   "outputs": [],
   "source": [
    "motif_df.columns"
   ]
  },
  {
   "cell_type": "code",
   "execution_count": null,
   "metadata": {},
   "outputs": [],
   "source": [
    "perdrug = pd.DataFrame()\n",
    "for drug in np.sort(motif_df.drugs.unique()):\n",
    "    sub = motif_df[motif_df[\"drugs\"] == drug]\n",
    "    gb = sub.groupby(\"labels\").count()\n",
    "    to_add = list(gb[\"drugs\"].values)\n",
    "    if len(to_add) != 15:\n",
    "        to_add.append(0)\n",
    "    perdrug[drug] = to_add\n",
    "        \n",
    "    "
   ]
  },
  {
   "cell_type": "code",
   "execution_count": null,
   "metadata": {},
   "outputs": [],
   "source": [
    "perdrug_percentage = (perdrug / perdrug.sum(axis = 0))*100"
   ]
  },
  {
   "cell_type": "code",
   "execution_count": null,
   "metadata": {},
   "outputs": [],
   "source": [
    "plt.close(\"all\")"
   ]
  },
  {
   "cell_type": "code",
   "execution_count": null,
   "metadata": {},
   "outputs": [],
   "source": [
    "fig, ax = plt.subplots(figsize = (8, 4), constrained_layout = True)\n",
    "perdrug_percentage.T.plot(kind = \"bar\", stacked = True, cmap = \"tab20\", ax = ax)\n",
    "legend = ax.legend(bbox_to_anchor = (1., 1.), ncol = 2)\n",
    "ax.set_title(\"window_150_rollingmean_15clusters\")\n",
    "ax.set_ylabel(\"Percentage represented\")\n",
    "fig.savefig(\"percentages_window150_rollingmean_15clusters.png\", dpi = 300)"
   ]
  },
  {
   "cell_type": "code",
   "execution_count": null,
   "metadata": {},
   "outputs": [],
   "source": [
    "fig, ax = plt.subplots(figsize = (8, 4), constrained_layout = True)\n",
    "perdrug.T.plot(kind = \"bar\", stacked = True, cmap = \"tab20\", ax = ax)\n",
    "legend = ax.legend(bbox_to_anchor = (1., 1.), ncol = 2)\n",
    "ax.set_title(\"window_150_rollingmean_15clusters\")\n",
    "ax.set_ylabel(\"Percentage represented\")\n",
    "fig.savefig(\"absolute_window150_rollingmean_15clusters.png\", dpi = 300)"
   ]
  },
  {
   "cell_type": "code",
   "execution_count": null,
   "metadata": {},
   "outputs": [],
   "source": [
    "fig, ax = plt.subplots(figsize = (8, 4), constrained_layout = True)\n",
    "perdrug[[c for c in perdrug.columns if c.lower() != \"none\"]].T.plot(kind = \"bar\", stacked = True, cmap = \"tab20\", ax = ax)\n",
    "legend = ax.legend(bbox_to_anchor = (1., 1.), ncol = 2)\n",
    "ax.set_title(\"window_150_rollingmean_15clusters\")\n",
    "ax.set_ylabel(\"Percentage represented\")\n",
    "fig.savefig(\"absolute_nonone_window150_rollingmean_15clusters.png\", dpi = 300)"
   ]
  },
  {
   "cell_type": "code",
   "execution_count": null,
   "metadata": {},
   "outputs": [],
   "source": [
    "import seaborn as sns"
   ]
  },
  {
   "cell_type": "code",
   "execution_count": null,
   "metadata": {},
   "outputs": [],
   "source": [
    "fig, ax = plt.subplots()\n",
    "bars = sns.barplot(x = \"drugs\", y = \"labels\", data = motif_df, stacked = True)"
   ]
  },
  {
   "cell_type": "code",
   "execution_count": null,
   "metadata": {},
   "outputs": [],
   "source": [
    "drugs_col = Parallel(n_jobs = 30, verbose = 5)(delayed(find_drug)(f) for f in motif_df[\"filename\"])"
   ]
  },
  {
   "cell_type": "code",
   "execution_count": null,
   "metadata": {},
   "outputs": [],
   "source": [
    "len(drugs_col)"
   ]
  },
  {
   "cell_type": "code",
   "execution_count": null,
   "metadata": {},
   "outputs": [],
   "source": [
    "motif_df[\"drugs\"] = drugs_col"
   ]
  },
  {
   "cell_type": "code",
   "execution_count": null,
   "metadata": {},
   "outputs": [],
   "source": []
  }
 ],
 "metadata": {
  "kernelspec": {
   "display_name": "Python 3 (ipykernel)",
   "language": "python",
   "name": "python3"
  },
  "language_info": {
   "codemirror_mode": {
    "name": "ipython",
    "version": 3
   },
   "file_extension": ".py",
   "mimetype": "text/x-python",
   "name": "python",
   "nbconvert_exporter": "python",
   "pygments_lexer": "ipython3",
   "version": "3.9.7"
  }
 },
 "nbformat": 4,
 "nbformat_minor": 4
}
