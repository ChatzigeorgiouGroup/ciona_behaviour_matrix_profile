{
 "cells": [
  {
   "cell_type": "code",
   "execution_count": 1,
   "metadata": {},
   "outputs": [
    {
     "name": "stderr",
     "output_type": "stream",
     "text": [
      "/share/python-virtual-environments/daniel-jl/lib/python3.6/site-packages/sklearn/utils/deprecation.py:143: FutureWarning: The sklearn.cluster.k_means_ module is  deprecated in version 0.22 and will be removed in version 0.24. The corresponding classes / functions should instead be imported from sklearn.cluster. Anything that cannot be imported from sklearn.cluster is now part of the private API.\n",
      "  warnings.warn(message, FutureWarning)\n"
     ]
    }
   ],
   "source": [
    "import pandas as pd\n",
    "import numpy as np\n",
    "import matplotlib.pyplot as plt\n",
    "import stumpy\n",
    "import glob\n",
    "import ipywidgets as widgets\n",
    "import peakutils\n",
    "from tslearn.clustering import KShape\n",
    "from tslearn.preprocessing import TimeSeriesScalerMeanVariance\n",
    "from tslearn.clustering import KernelKMeans\n",
    "from tslearn.clustering import TimeSeriesKMeans\n",
    "from scipy.signal import savgol_filter\n",
    "from functools import partial\n",
    "from joblib import delayed, Parallel\n",
    "%matplotlib widget"
   ]
  },
  {
   "cell_type": "markdown",
   "metadata": {},
   "source": [
    "# Matrix Profile Motif Detection\n",
    "\n",
    "In this notebook we use the matrix profile to scrape motifs from all timeseries, and compile them into a dataset of shape `(n_motifs, len_motifs, n_dimensions)`, where `n_motifs` is the number of motifs scraped from all data, `len_motifs` is the chosen window size and `n_dimensions` is 7, for the 7 curvature values we will be considering. \n",
    "\n",
    "First we will load the raw data:"
   ]
  },
  {
   "cell_type": "code",
   "execution_count": 2,
   "metadata": {},
   "outputs": [],
   "source": [
    "path = \"/share/data/temp/athira/July17_features_combined_noLightStimuli.pickle\"\n",
    "df = pd.read_pickle(path)"
   ]
  },
  {
   "cell_type": "markdown",
   "metadata": {},
   "source": [
    "Then we need to define some of the functions that will do our work. First a function that takes a filename/unique id and slices the timeseries for that id out of the main dataframe:"
   ]
  },
  {
   "cell_type": "code",
   "execution_count": 3,
   "metadata": {},
   "outputs": [],
   "source": [
    "def get_curvature_data(f):\n",
    "    \"\"\"\n",
    "    function to extract a specific timeseries from the main dataframe.\n",
    "    \"\"\"\n",
    "    df_f = df[df[\"filename\"] == f]\n",
    "    cols_to_return = [c for c in df.columns if \"curv\" in c]\n",
    "    return df_f[cols_to_return]"
   ]
  },
  {
   "cell_type": "markdown",
   "metadata": {},
   "source": [
    "Then a function that takes a timeseries and a window size, calculates the matrix profile, and returns the motifs it finds at the minima of the matrix profile."
   ]
  },
  {
   "cell_type": "code",
   "execution_count": 4,
   "metadata": {},
   "outputs": [],
   "source": [
    "def get_motifs(data, window):\n",
    "    \"\"\"\n",
    "    Uses the matrix profile to scrape motifs from a timeseries. Returns motifs in the form (n_motifs, motif_length, n_dim).\n",
    "    \"\"\"\n",
    "    try:\n",
    "        mp, ind = stumpy.mstump(data, m = window)\n",
    "        peaks = peakutils.indexes(1-mp[:,-1], min_dist = window, thres = 0.8)\n",
    "        motifs = np.stack([data[peak:peak+window, :] for peak in peaks])\n",
    "        return motifs  \n",
    "    except Exception as e:\n",
    "        print(e)"
   ]
  },
  {
   "cell_type": "markdown",
   "metadata": {},
   "source": [
    "Last a function that we can use to do our work efficiently using joblib."
   ]
  },
  {
   "cell_type": "code",
   "execution_count": 9,
   "metadata": {},
   "outputs": [],
   "source": [
    "def plot_motifs(curvs, peaks, mp, window = 150):\n",
    "    fig, axes = plt.subplots(8,1, figsize = (10,6), sharex=True)\n",
    "    for i, ax in enumerate(axes):\n",
    "        try:\n",
    "            ax.plot(curvs[:,i], lw = 0.5)\n",
    "        except:\n",
    "            pass\n",
    "    axes[-1].plot(mp[:,-1], lw = 0.5)\n",
    "    axes[-1].scatter(peaks, mp[peaks,-1], c = \"r\", s = 1)\n",
    "    axes[-1].set_ylabel(\"MP\")\n",
    "    axes[-1].set_xlabel(\"Time (frames)\")\n",
    "    axes[-1].set_yticks([])\n",
    "    for peak in peaks:\n",
    "        for i in range(7):\n",
    "            axes[i].plot(np.arange(peak, peak+window), curvs[peak:peak+window, i])\n",
    "            axes[i].set_ylabel(f\"Curv {i}\")\n",
    "            axes[i].set_yticks([])\n",
    "    return fig\n",
    "    "
   ]
  },
  {
   "cell_type": "code",
   "execution_count": 39,
   "metadata": {},
   "outputs": [],
   "source": [
    "def do_work(filename, window = 150):\n",
    "    try:\n",
    "        data = get_curvature_data(filename)\n",
    "        for c in data.columns:\n",
    "            data[c] = data[c].rolling(10).mean()\n",
    "        data = data[10:]\n",
    "        mp, ind = stumpy.mstump(data, m = window)\n",
    "        peaks = peakutils.indexes(1-mp[:,-1], min_dist = window, thres = 0.8)\n",
    "        motifs = np.stack([data.values[peak:peak+window, :] for peak in peaks])\n",
    "        df = pd.DataFrame(zip(mp, peaks), columns = [\"motifs\", \"motif_start\"])\n",
    "        df[\"filename\"] = filename\n",
    "    \n",
    "        return df, data, mp, peaks\n",
    "    except Exception as e:\n",
    "        return( (filename, str(e)))"
   ]
  },
  {
   "cell_type": "markdown",
   "metadata": {},
   "source": [
    "Then we gather all unique filenames that we want to scrape motifs for:"
   ]
  },
  {
   "cell_type": "code",
   "execution_count": 40,
   "metadata": {},
   "outputs": [],
   "source": [
    "to_do = df[\"filename\"].unique()"
   ]
  },
  {
   "cell_type": "markdown",
   "metadata": {},
   "source": [
    "Set the windows we want to find motifs over:"
   ]
  },
  {
   "cell_type": "code",
   "execution_count": 72,
   "metadata": {},
   "outputs": [],
   "source": []
  },
  {
   "cell_type": "code",
   "execution_count": null,
   "metadata": {},
   "outputs": [],
   "source": [
    "\n",
    "numbers = np.random.choice(range(len(to_do)), 25)\n",
    "for number in numbers:\n",
    "    for window in [30,150]:\n",
    "        test = do_work(to_do[number], window)\n",
    "        fig, ax = plt.subplots(8,1, figsize = (10,6), sharex = True)\n",
    "\n",
    "        motifs, curves, mp, peaks = test\n",
    "        ax[-1].plot(mp[:,-1])\n",
    "        ax[-1].scatter(peaks, mp[peaks,-1], s = 3, c = \"r\")\n",
    "        ax[-1].set_ylabel(\"MP\")\n",
    "        ax[-1].set_xlabel(\"Time (frames)\")\n",
    "        ax[-1].set_yticks([])\n",
    "\n",
    "        for i, c in enumerate(curves.columns):\n",
    "            ax[i].plot(curves[c])\n",
    "\n",
    "        curves = curves.values\n",
    "        for peak in peaks:\n",
    "                for i in range(7):\n",
    "                    ax[i].plot(np.arange(peak, peak+window), curves[peak:peak+window, i])\n",
    "                    ax[i].set_ylabel(f\"Curve {i}\")\n",
    "                    ax[i].set_yticks([])\n",
    "\n",
    "        fig.savefig(f\"./traces/{number}_{window}.png\")\n",
    "        fig.savefig(f\"./traces/{number}_{window}.svg\")"
   ]
  },
  {
   "cell_type": "code",
   "execution_count": 65,
   "metadata": {},
   "outputs": [
    {
     "data": {
      "text/plain": [
       "array([1495, 1676, 2601, 3147])"
      ]
     },
     "execution_count": 65,
     "metadata": {},
     "output_type": "execute_result"
    }
   ],
   "source": [
    "peaks"
   ]
  },
  {
   "cell_type": "code",
   "execution_count": 31,
   "metadata": {},
   "outputs": [
    {
     "data": {
      "text/html": [
       "<div>\n",
       "<style scoped>\n",
       "    .dataframe tbody tr th:only-of-type {\n",
       "        vertical-align: middle;\n",
       "    }\n",
       "\n",
       "    .dataframe tbody tr th {\n",
       "        vertical-align: top;\n",
       "    }\n",
       "\n",
       "    .dataframe thead th {\n",
       "        text-align: right;\n",
       "    }\n",
       "</style>\n",
       "<table border=\"1\" class=\"dataframe\">\n",
       "  <thead>\n",
       "    <tr style=\"text-align: right;\">\n",
       "      <th></th>\n",
       "      <th>motifs</th>\n",
       "      <th>frame</th>\n",
       "    </tr>\n",
       "  </thead>\n",
       "  <tbody>\n",
       "    <tr>\n",
       "      <th>0</th>\n",
       "      <td>[[0.001816929379128851, -0.005239114654250443,...</td>\n",
       "      <td>658</td>\n",
       "    </tr>\n",
       "    <tr>\n",
       "      <th>1</th>\n",
       "      <td>[[0.000689667479309719, -0.009880717378109694,...</td>\n",
       "      <td>811</td>\n",
       "    </tr>\n",
       "    <tr>\n",
       "      <th>2</th>\n",
       "      <td>[[-0.00038045951368985697, -0.0033348528377246...</td>\n",
       "      <td>1830</td>\n",
       "    </tr>\n",
       "    <tr>\n",
       "      <th>3</th>\n",
       "      <td>[[0.003582046739757061, -0.005616012160317041,...</td>\n",
       "      <td>3058</td>\n",
       "    </tr>\n",
       "    <tr>\n",
       "      <th>4</th>\n",
       "      <td>[[-0.00016893554711714387, 0.00360996909439563...</td>\n",
       "      <td>3259</td>\n",
       "    </tr>\n",
       "    <tr>\n",
       "      <th>5</th>\n",
       "      <td>[[0.00022864136553835124, -0.00841008488787338...</td>\n",
       "      <td>4778</td>\n",
       "    </tr>\n",
       "    <tr>\n",
       "      <th>6</th>\n",
       "      <td>[[-0.0010266736266203226, -0.00335809504613280...</td>\n",
       "      <td>6009</td>\n",
       "    </tr>\n",
       "    <tr>\n",
       "      <th>7</th>\n",
       "      <td>[[-0.0003301058444776572, -0.00882316405186429...</td>\n",
       "      <td>6917</td>\n",
       "    </tr>\n",
       "    <tr>\n",
       "      <th>8</th>\n",
       "      <td>[[-0.0003341469215229154, -0.01094033768167719...</td>\n",
       "      <td>8018</td>\n",
       "    </tr>\n",
       "    <tr>\n",
       "      <th>9</th>\n",
       "      <td>[[-0.008177888067439198, -0.006341102626174688...</td>\n",
       "      <td>8715</td>\n",
       "    </tr>\n",
       "  </tbody>\n",
       "</table>\n",
       "</div>"
      ],
      "text/plain": [
       "                                              motifs  frame\n",
       "0  [[0.001816929379128851, -0.005239114654250443,...    658\n",
       "1  [[0.000689667479309719, -0.009880717378109694,...    811\n",
       "2  [[-0.00038045951368985697, -0.0033348528377246...   1830\n",
       "3  [[0.003582046739757061, -0.005616012160317041,...   3058\n",
       "4  [[-0.00016893554711714387, 0.00360996909439563...   3259\n",
       "5  [[0.00022864136553835124, -0.00841008488787338...   4778\n",
       "6  [[-0.0010266736266203226, -0.00335809504613280...   6009\n",
       "7  [[-0.0003301058444776572, -0.00882316405186429...   6917\n",
       "8  [[-0.0003341469215229154, -0.01094033768167719...   8018\n",
       "9  [[-0.008177888067439198, -0.006341102626174688...   8715"
      ]
     },
     "execution_count": 31,
     "metadata": {},
     "output_type": "execute_result"
    }
   ],
   "source": [
    "pd.DataFrame(zip(m, p), columns = [\"motifs\", \"frame\"])"
   ]
  },
  {
   "cell_type": "code",
   "execution_count": 9,
   "metadata": {},
   "outputs": [
    {
     "data": {
      "text/plain": [
       "(10,)"
      ]
     },
     "execution_count": 9,
     "metadata": {},
     "output_type": "execute_result"
    }
   ],
   "source": [
    "p.shape"
   ]
  },
  {
   "cell_type": "code",
   "execution_count": 17,
   "metadata": {},
   "outputs": [
    {
     "ename": "ValueError",
     "evalue": "all the input arrays must have same number of dimensions, but the array at index 0 has 3 dimension(s) and the array at index 1 has 2 dimension(s)",
     "output_type": "error",
     "traceback": [
      "\u001b[0;31m---------------------------------------------------------------------------\u001b[0m",
      "\u001b[0;31mValueError\u001b[0m                                Traceback (most recent call last)",
      "\u001b[0;32m<ipython-input-17-6cacfee2f0e2>\u001b[0m in \u001b[0;36m<module>\u001b[0;34m\u001b[0m\n\u001b[0;32m----> 1\u001b[0;31m \u001b[0mnp\u001b[0m\u001b[0;34m.\u001b[0m\u001b[0mvstack\u001b[0m\u001b[0;34m(\u001b[0m\u001b[0;34m[\u001b[0m\u001b[0mm\u001b[0m\u001b[0;34m,\u001b[0m \u001b[0mp\u001b[0m\u001b[0;34m]\u001b[0m\u001b[0;34m)\u001b[0m\u001b[0;34m\u001b[0m\u001b[0;34m\u001b[0m\u001b[0m\n\u001b[0m",
      "\u001b[0;32m<__array_function__ internals>\u001b[0m in \u001b[0;36mvstack\u001b[0;34m(*args, **kwargs)\u001b[0m\n",
      "\u001b[0;32m/share/python-virtual-environments/daniel-jl/lib/python3.6/site-packages/numpy/core/shape_base.py\u001b[0m in \u001b[0;36mvstack\u001b[0;34m(tup)\u001b[0m\n\u001b[1;32m    281\u001b[0m     \u001b[0;32mif\u001b[0m \u001b[0;32mnot\u001b[0m \u001b[0misinstance\u001b[0m\u001b[0;34m(\u001b[0m\u001b[0marrs\u001b[0m\u001b[0;34m,\u001b[0m \u001b[0mlist\u001b[0m\u001b[0;34m)\u001b[0m\u001b[0;34m:\u001b[0m\u001b[0;34m\u001b[0m\u001b[0;34m\u001b[0m\u001b[0m\n\u001b[1;32m    282\u001b[0m         \u001b[0marrs\u001b[0m \u001b[0;34m=\u001b[0m \u001b[0;34m[\u001b[0m\u001b[0marrs\u001b[0m\u001b[0;34m]\u001b[0m\u001b[0;34m\u001b[0m\u001b[0;34m\u001b[0m\u001b[0m\n\u001b[0;32m--> 283\u001b[0;31m     \u001b[0;32mreturn\u001b[0m \u001b[0m_nx\u001b[0m\u001b[0;34m.\u001b[0m\u001b[0mconcatenate\u001b[0m\u001b[0;34m(\u001b[0m\u001b[0marrs\u001b[0m\u001b[0;34m,\u001b[0m \u001b[0;36m0\u001b[0m\u001b[0;34m)\u001b[0m\u001b[0;34m\u001b[0m\u001b[0;34m\u001b[0m\u001b[0m\n\u001b[0m\u001b[1;32m    284\u001b[0m \u001b[0;34m\u001b[0m\u001b[0m\n\u001b[1;32m    285\u001b[0m \u001b[0;34m\u001b[0m\u001b[0m\n",
      "\u001b[0;32m<__array_function__ internals>\u001b[0m in \u001b[0;36mconcatenate\u001b[0;34m(*args, **kwargs)\u001b[0m\n",
      "\u001b[0;31mValueError\u001b[0m: all the input arrays must have same number of dimensions, but the array at index 0 has 3 dimension(s) and the array at index 1 has 2 dimension(s)"
     ]
    }
   ],
   "source": [
    "np.vstack([m, p])"
   ]
  },
  {
   "cell_type": "code",
   "execution_count": 75,
   "metadata": {},
   "outputs": [],
   "source": [
    "d = get_curvature_data(np.random.choice(to_do))"
   ]
  },
  {
   "cell_type": "code",
   "execution_count": 76,
   "metadata": {},
   "outputs": [],
   "source": [
    "cols = d.columns\n",
    "for c in cols:\n",
    "    d[f\"{c}_f\"] = d[c].rolling(5).mean()"
   ]
  },
  {
   "cell_type": "code",
   "execution_count": 77,
   "metadata": {},
   "outputs": [
    {
     "data": {
      "text/plain": [
       "array([        nan,         nan,         nan, ..., -0.02004233,\n",
       "       -0.02021583, -0.02046526])"
      ]
     },
     "execution_count": 77,
     "metadata": {},
     "output_type": "execute_result"
    }
   ],
   "source": [
    "d[c].rolling(10).mean().values"
   ]
  },
  {
   "cell_type": "code",
   "execution_count": 78,
   "metadata": {},
   "outputs": [
    {
     "data": {
      "application/vnd.jupyter.widget-view+json": {
       "model_id": "a0e40f33dde44b65921be682f8155790",
       "version_major": 2,
       "version_minor": 0
      },
      "text/plain": [
       "Canvas(toolbar=Toolbar(toolitems=[('Home', 'Reset original view', 'home', 'home'), ('Back', 'Back to previous …"
      ]
     },
     "metadata": {},
     "output_type": "display_data"
    }
   ],
   "source": [
    "fig, ax = plt.subplots(7,1)\n",
    "for i, c in enumerate(cols):\n",
    "    ax[i].plot(d[c])\n",
    "    ax[i].plot(d[f\"{c}_f\"])"
   ]
  },
  {
   "cell_type": "code",
   "execution_count": 39,
   "metadata": {},
   "outputs": [],
   "source": [
    "motifs = [do_work(x, window = 150) for x in np.random.choice(to_do, 2)]"
   ]
  },
  {
   "cell_type": "code",
   "execution_count": 41,
   "metadata": {},
   "outputs": [
    {
     "data": {
      "text/html": [
       "<div>\n",
       "<style scoped>\n",
       "    .dataframe tbody tr th:only-of-type {\n",
       "        vertical-align: middle;\n",
       "    }\n",
       "\n",
       "    .dataframe tbody tr th {\n",
       "        vertical-align: top;\n",
       "    }\n",
       "\n",
       "    .dataframe thead th {\n",
       "        text-align: right;\n",
       "    }\n",
       "</style>\n",
       "<table border=\"1\" class=\"dataframe\">\n",
       "  <thead>\n",
       "    <tr style=\"text-align: right;\">\n",
       "      <th></th>\n",
       "      <th>motifs</th>\n",
       "      <th>motif_start</th>\n",
       "      <th>filename</th>\n",
       "    </tr>\n",
       "  </thead>\n",
       "  <tbody>\n",
       "    <tr>\n",
       "      <th>0</th>\n",
       "      <td>[[0.001816929379128851, -0.005239114654250443,...</td>\n",
       "      <td>658</td>\n",
       "      <td>20180730_112620_1_5m0s_Octopamine_None_None_sk...</td>\n",
       "    </tr>\n",
       "    <tr>\n",
       "      <th>1</th>\n",
       "      <td>[[0.000689667479309719, -0.009880717378109694,...</td>\n",
       "      <td>811</td>\n",
       "      <td>20180730_112620_1_5m0s_Octopamine_None_None_sk...</td>\n",
       "    </tr>\n",
       "    <tr>\n",
       "      <th>2</th>\n",
       "      <td>[[-0.00038045951368985697, -0.0033348528377246...</td>\n",
       "      <td>1830</td>\n",
       "      <td>20180730_112620_1_5m0s_Octopamine_None_None_sk...</td>\n",
       "    </tr>\n",
       "    <tr>\n",
       "      <th>3</th>\n",
       "      <td>[[0.003582046739757061, -0.005616012160317041,...</td>\n",
       "      <td>3058</td>\n",
       "      <td>20180730_112620_1_5m0s_Octopamine_None_None_sk...</td>\n",
       "    </tr>\n",
       "    <tr>\n",
       "      <th>4</th>\n",
       "      <td>[[-0.00016893554711714387, 0.00360996909439563...</td>\n",
       "      <td>3259</td>\n",
       "      <td>20180730_112620_1_5m0s_Octopamine_None_None_sk...</td>\n",
       "    </tr>\n",
       "    <tr>\n",
       "      <th>5</th>\n",
       "      <td>[[0.00022864136553835124, -0.00841008488787338...</td>\n",
       "      <td>4778</td>\n",
       "      <td>20180730_112620_1_5m0s_Octopamine_None_None_sk...</td>\n",
       "    </tr>\n",
       "    <tr>\n",
       "      <th>6</th>\n",
       "      <td>[[-0.0010266736266203226, -0.00335809504613280...</td>\n",
       "      <td>6009</td>\n",
       "      <td>20180730_112620_1_5m0s_Octopamine_None_None_sk...</td>\n",
       "    </tr>\n",
       "    <tr>\n",
       "      <th>7</th>\n",
       "      <td>[[-0.0003301058444776572, -0.00882316405186429...</td>\n",
       "      <td>6917</td>\n",
       "      <td>20180730_112620_1_5m0s_Octopamine_None_None_sk...</td>\n",
       "    </tr>\n",
       "    <tr>\n",
       "      <th>8</th>\n",
       "      <td>[[-0.0003341469215229154, -0.01094033768167719...</td>\n",
       "      <td>8018</td>\n",
       "      <td>20180730_112620_1_5m0s_Octopamine_None_None_sk...</td>\n",
       "    </tr>\n",
       "    <tr>\n",
       "      <th>9</th>\n",
       "      <td>[[-0.008177888067439198, -0.006341102626174688...</td>\n",
       "      <td>8715</td>\n",
       "      <td>20180730_112620_1_5m0s_Octopamine_None_None_sk...</td>\n",
       "    </tr>\n",
       "    <tr>\n",
       "      <th>0</th>\n",
       "      <td>[[0.001816929379128851, -0.005239114654250443,...</td>\n",
       "      <td>658</td>\n",
       "      <td>20180813_134526_1_5m0s_Quinpirole003_None_None...</td>\n",
       "    </tr>\n",
       "    <tr>\n",
       "      <th>1</th>\n",
       "      <td>[[0.000689667479309719, -0.009880717378109694,...</td>\n",
       "      <td>811</td>\n",
       "      <td>20180813_134526_1_5m0s_Quinpirole003_None_None...</td>\n",
       "    </tr>\n",
       "    <tr>\n",
       "      <th>2</th>\n",
       "      <td>[[-0.00038045951368985697, -0.0033348528377246...</td>\n",
       "      <td>1830</td>\n",
       "      <td>20180813_134526_1_5m0s_Quinpirole003_None_None...</td>\n",
       "    </tr>\n",
       "    <tr>\n",
       "      <th>3</th>\n",
       "      <td>[[0.003582046739757061, -0.005616012160317041,...</td>\n",
       "      <td>3058</td>\n",
       "      <td>20180813_134526_1_5m0s_Quinpirole003_None_None...</td>\n",
       "    </tr>\n",
       "    <tr>\n",
       "      <th>4</th>\n",
       "      <td>[[-0.00016893554711714387, 0.00360996909439563...</td>\n",
       "      <td>3259</td>\n",
       "      <td>20180813_134526_1_5m0s_Quinpirole003_None_None...</td>\n",
       "    </tr>\n",
       "    <tr>\n",
       "      <th>5</th>\n",
       "      <td>[[0.00022864136553835124, -0.00841008488787338...</td>\n",
       "      <td>4778</td>\n",
       "      <td>20180813_134526_1_5m0s_Quinpirole003_None_None...</td>\n",
       "    </tr>\n",
       "    <tr>\n",
       "      <th>6</th>\n",
       "      <td>[[-0.0010266736266203226, -0.00335809504613280...</td>\n",
       "      <td>6009</td>\n",
       "      <td>20180813_134526_1_5m0s_Quinpirole003_None_None...</td>\n",
       "    </tr>\n",
       "    <tr>\n",
       "      <th>7</th>\n",
       "      <td>[[-0.0003301058444776572, -0.00882316405186429...</td>\n",
       "      <td>6917</td>\n",
       "      <td>20180813_134526_1_5m0s_Quinpirole003_None_None...</td>\n",
       "    </tr>\n",
       "    <tr>\n",
       "      <th>8</th>\n",
       "      <td>[[-0.0003341469215229154, -0.01094033768167719...</td>\n",
       "      <td>8018</td>\n",
       "      <td>20180813_134526_1_5m0s_Quinpirole003_None_None...</td>\n",
       "    </tr>\n",
       "    <tr>\n",
       "      <th>9</th>\n",
       "      <td>[[-0.008177888067439198, -0.006341102626174688...</td>\n",
       "      <td>8715</td>\n",
       "      <td>20180813_134526_1_5m0s_Quinpirole003_None_None...</td>\n",
       "    </tr>\n",
       "  </tbody>\n",
       "</table>\n",
       "</div>"
      ],
      "text/plain": [
       "                                              motifs  motif_start  \\\n",
       "0  [[0.001816929379128851, -0.005239114654250443,...          658   \n",
       "1  [[0.000689667479309719, -0.009880717378109694,...          811   \n",
       "2  [[-0.00038045951368985697, -0.0033348528377246...         1830   \n",
       "3  [[0.003582046739757061, -0.005616012160317041,...         3058   \n",
       "4  [[-0.00016893554711714387, 0.00360996909439563...         3259   \n",
       "5  [[0.00022864136553835124, -0.00841008488787338...         4778   \n",
       "6  [[-0.0010266736266203226, -0.00335809504613280...         6009   \n",
       "7  [[-0.0003301058444776572, -0.00882316405186429...         6917   \n",
       "8  [[-0.0003341469215229154, -0.01094033768167719...         8018   \n",
       "9  [[-0.008177888067439198, -0.006341102626174688...         8715   \n",
       "0  [[0.001816929379128851, -0.005239114654250443,...          658   \n",
       "1  [[0.000689667479309719, -0.009880717378109694,...          811   \n",
       "2  [[-0.00038045951368985697, -0.0033348528377246...         1830   \n",
       "3  [[0.003582046739757061, -0.005616012160317041,...         3058   \n",
       "4  [[-0.00016893554711714387, 0.00360996909439563...         3259   \n",
       "5  [[0.00022864136553835124, -0.00841008488787338...         4778   \n",
       "6  [[-0.0010266736266203226, -0.00335809504613280...         6009   \n",
       "7  [[-0.0003301058444776572, -0.00882316405186429...         6917   \n",
       "8  [[-0.0003341469215229154, -0.01094033768167719...         8018   \n",
       "9  [[-0.008177888067439198, -0.006341102626174688...         8715   \n",
       "\n",
       "                                            filename  \n",
       "0  20180730_112620_1_5m0s_Octopamine_None_None_sk...  \n",
       "1  20180730_112620_1_5m0s_Octopamine_None_None_sk...  \n",
       "2  20180730_112620_1_5m0s_Octopamine_None_None_sk...  \n",
       "3  20180730_112620_1_5m0s_Octopamine_None_None_sk...  \n",
       "4  20180730_112620_1_5m0s_Octopamine_None_None_sk...  \n",
       "5  20180730_112620_1_5m0s_Octopamine_None_None_sk...  \n",
       "6  20180730_112620_1_5m0s_Octopamine_None_None_sk...  \n",
       "7  20180730_112620_1_5m0s_Octopamine_None_None_sk...  \n",
       "8  20180730_112620_1_5m0s_Octopamine_None_None_sk...  \n",
       "9  20180730_112620_1_5m0s_Octopamine_None_None_sk...  \n",
       "0  20180813_134526_1_5m0s_Quinpirole003_None_None...  \n",
       "1  20180813_134526_1_5m0s_Quinpirole003_None_None...  \n",
       "2  20180813_134526_1_5m0s_Quinpirole003_None_None...  \n",
       "3  20180813_134526_1_5m0s_Quinpirole003_None_None...  \n",
       "4  20180813_134526_1_5m0s_Quinpirole003_None_None...  \n",
       "5  20180813_134526_1_5m0s_Quinpirole003_None_None...  \n",
       "6  20180813_134526_1_5m0s_Quinpirole003_None_None...  \n",
       "7  20180813_134526_1_5m0s_Quinpirole003_None_None...  \n",
       "8  20180813_134526_1_5m0s_Quinpirole003_None_None...  \n",
       "9  20180813_134526_1_5m0s_Quinpirole003_None_None...  "
      ]
     },
     "execution_count": 41,
     "metadata": {},
     "output_type": "execute_result"
    }
   ],
   "source": [
    "pd.concat(motifs)"
   ]
  },
  {
   "cell_type": "code",
   "execution_count": 46,
   "metadata": {},
   "outputs": [],
   "source": [
    "windows = [150]"
   ]
  },
  {
   "cell_type": "markdown",
   "metadata": {},
   "source": [
    "And do the actual work. This will take about 1.5 hours per window on 20 threads. "
   ]
  },
  {
   "cell_type": "code",
   "execution_count": null,
   "metadata": {},
   "outputs": [
    {
     "name": "stderr",
     "output_type": "stream",
     "text": [
      "[Parallel(n_jobs=20)]: Using backend LokyBackend with 20 concurrent workers.\n",
      "[Parallel(n_jobs=20)]: Done  32 tasks      | elapsed:  1.7min\n",
      "[Parallel(n_jobs=20)]: Done 122 tasks      | elapsed:  5.8min\n",
      "[Parallel(n_jobs=20)]: Done 248 tasks      | elapsed: 10.9min\n"
     ]
    }
   ],
   "source": [
    "for window in windows:\n",
    "    #20 threads use up about 90gb of RAM. Don`t use much more.\n",
    "    motifs = Parallel(n_jobs=20, verbose = 5)(delayed(partial(do_work, window = window))(f) for f in to_do)\n",
    "    motifs = [x for x in motifs if type(x) != type((\"this\", \"thing\"))]\n",
    "    motifs = pd.concat(motifs)\n",
    "#     motifs = TimeSeriesScalerMeanVariance().fit_transform(motifs)\n",
    "    motifs.to_hdf(f\"motifs_window{window}_in_context.hdf5\", key = \"data\")"
   ]
  },
  {
   "cell_type": "code",
   "execution_count": null,
   "metadata": {},
   "outputs": [],
   "source": []
  }
 ],
 "metadata": {
  "kernelspec": {
   "display_name": "Python 3 (ipykernel)",
   "language": "python",
   "name": "python3"
  },
  "language_info": {
   "codemirror_mode": {
    "name": "ipython",
    "version": 3
   },
   "file_extension": ".py",
   "mimetype": "text/x-python",
   "name": "python",
   "nbconvert_exporter": "python",
   "pygments_lexer": "ipython3",
   "version": "3.9.7"
  }
 },
 "nbformat": 4,
 "nbformat_minor": 4
}
